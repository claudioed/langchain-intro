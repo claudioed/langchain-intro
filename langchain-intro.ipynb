{
 "cells": [
  {
   "cell_type": "code",
   "id": "initial_id",
   "metadata": {
    "collapsed": true
   },
   "source": [
    "from langchain_openai import ChatOpenAI\n",
    "from dotenv import load_dotenv\n",
    "load_dotenv()\n",
    "llm = ChatOpenAI()\n",
    "llm.invoke(\"how can langsmith help with testing?\")\n",
    "\n",
    "\n"
   ],
   "outputs": [],
   "execution_count": null
  },
  {
   "metadata": {
    "ExecuteTime": {
     "end_time": "2024-04-27T16:42:45.512726Z",
     "start_time": "2024-04-27T16:42:40.470135Z"
    }
   },
   "cell_type": "code",
   "source": [
    "from langchain_core.prompts import ChatPromptTemplate\n",
    "from langchain_core.output_parsers import StrOutputParser\n",
    "\n",
    "prompt = ChatPromptTemplate.from_messages([\n",
    "    (\"system\", \"You are a world class technical documentation writer.\"),\n",
    "    (\"user\", \"{input}\")\n",
    "])\n",
    "\n",
    "output_parser = StrOutputParser()\n",
    "\n",
    "chain = prompt | llm | output_parser \n",
    "chain.invoke({\"input\": \"how can langsmith help with testing?\"})\n",
    "\n",
    "\n",
    "\n",
    "\n",
    "\n"
   ],
   "id": "7ca062654a331844",
   "outputs": [
    {
     "data": {
      "text/plain": [
       "\"Langsmith can help with testing by providing a powerful set of features and tools that support various aspects of the testing process. Here are some ways Langsmith can assist with testing:\\n\\n1. **Automated Testing**: Langsmith allows you to write automated tests in a clear and concise manner using its language features. You can easily create test cases and assertions to verify the behavior of your code.\\n\\n2. **Mocking and Stubbing**: Langsmith provides support for mocking and stubbing, allowing you to simulate the behavior of external dependencies or components. This is useful for isolating the code under test and ensuring that tests are focused and reliable.\\n\\n3. **Test Data Generation**: Langsmith's data generation capabilities can help you generate realistic test data for your tests. This can be particularly useful when testing edge cases or scenarios that are difficult to reproduce manually.\\n\\n4. **Integration Testing**: Langsmith supports integration testing by providing features for interacting with external systems, such as databases or APIs. You can write tests that validate the integration points of your application.\\n\\n5. **Performance Testing**: Langsmith can be used to write performance tests that measure the speed and efficiency of your code under various conditions. You can analyze the performance characteristics of your application and make improvements as needed.\\n\\nOverall, Langsmith can help streamline the testing process, improve test coverage, and ensure the reliability and quality of your software products.\""
      ]
     },
     "execution_count": 2,
     "metadata": {},
     "output_type": "execute_result"
    }
   ],
   "execution_count": 2
  },
  {
   "metadata": {},
   "cell_type": "code",
   "outputs": [],
   "execution_count": null,
   "source": "",
   "id": "144b6a7cb2aa1736"
  }
 ],
 "metadata": {
  "kernelspec": {
   "display_name": "Python 3",
   "language": "python",
   "name": "python3"
  },
  "language_info": {
   "codemirror_mode": {
    "name": "ipython",
    "version": 2
   },
   "file_extension": ".py",
   "mimetype": "text/x-python",
   "name": "python",
   "nbconvert_exporter": "python",
   "pygments_lexer": "ipython2",
   "version": "2.7.6"
  }
 },
 "nbformat": 4,
 "nbformat_minor": 5
}
